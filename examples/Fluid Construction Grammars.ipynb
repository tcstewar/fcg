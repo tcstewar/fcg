{
 "cells": [
  {
   "cell_type": "markdown",
   "metadata": {},
   "source": [
    "# Fluid Construction Grammars\n",
    "\n",
    "![syntax](img/syntax.png)"
   ]
  },
  {
   "cell_type": "markdown",
   "metadata": {},
   "source": [
    "## Construction Grammars\n",
    "\n",
    "Two basic principles:\n",
    "\n",
    "### 1) Crossing layers\n",
    "\n",
    "Traditional Linguistics:\n",
    "![layers1](img/layers1.png)\n",
    "\n",
    "Construction Grammars:\n",
    "![layers2](img/layers2.png)\n",
    "\n",
    "### 2) Bidirectional\n",
    "\n",
    "<center>$\\huge ``the~cat'' \\Leftrightarrow \\fbox{???} \\Leftrightarrow CAT(definite) $</center>\n",
    "\n",
    "(but, no claim about how $``the~cat''$ or $CAT(definite)$ are represented -- use whatever theory you want)"
   ]
  },
  {
   "cell_type": "markdown",
   "metadata": {},
   "source": [
    "## Fluid Construction Grammars\n",
    "\n",
    "Lots of CGs out there:\n",
    " - Berkeley Construction Grammar (BCG, 1990's)\n",
    " - Sign-Based Construction Grammar (SBCG, 2000's)\n",
    " - Goldbergian/Lakovian construction grammar\n",
    " - Cognitive grammar\n",
    " - Radical construction grammar\n",
    " - Embodied construction grammar (ECG)\n",
    " - Fluid construction grammar (FCG)\n",
    " \n",
    "Why focus on this one?  https://en.wikipedia.org/wiki/Construction_grammar\n",
    "\n",
    "> Fluid construction grammar (FCG) was designed by Luc Steels and his collaborators for doing experiments on the origins and evolution of language. FCG is a fully operational and computationally implemented formalism for construction grammars and proposes a uniform mechanism for parsing and production. Moreover, it has been demonstrated through robotic experiments that FCG grammars can be grounded in embodiment and sensorimotor experiences. FCG integrates many notions from contemporary computational linguistics such as feature structures and unification-based language processing. Constructions are considered bidirectional and hence usable both for parsing and production. Processing is flexible in the sense that it can even cope with partially ungrammatical or incomplete sentences. FCG is called 'fluid' because it acknowledges the premise that language users constantly change and update their grammars. \n",
    "\n",
    "https://www.fcg-net.org/fcg-interactive/"
   ]
  },
  {
   "cell_type": "markdown",
   "metadata": {},
   "source": [
    "## Basic Idea\n",
    "\n",
    " - Your workspace is a bunch of Structures.  These are collections of slot-value pairs (exactly like Chunks in other formalisms).\n",
    " - Constructions are a bunch of things that act on those Structures, changing them.\n",
    " \n",
    " - So, you might start with the Structure for sound \"the\" and a structure for the sound \"cat\" (or the raw phonemes, or whatever).  Constructions will then act on this to build up something complicated.  One component of that complicated resulting structure will be the high-level representation of the cat (maybe `CAT(definite, obj-1)` or `is_cat(obj-1)` or whatever).  \n",
    " - Similarly, you can take the same system and feed in `CAT(definite, obj-1)` and it will generate a whole bunch of stuff, one part of whuch is \"the\" followed by \"cat\".\n",
    " \n",
    " - FCG makes no claims about how to represent things, other than to say there's some sort of slot-value pair thing happening."
   ]
  },
  {
   "cell_type": "markdown",
   "metadata": {},
   "source": [
    "## Example\n",
    "\n",
    "![the](img/the.png)\n",
    "\n"
   ]
  },
  {
   "cell_type": "markdown",
   "metadata": {},
   "source": [
    "- left-hand-side: Contribution (the thing that this construction makes)\n",
    "- right-hand-side, above the line: Production (matching rule when producing)\n",
    "- right-hand-side, below the line: Comprehension (matching rule when comprehending)\n",
    "\n",
    "Note: when Producing (or Comprehending), the Comprehension part (or the Production part) is also Contributed\n",
    "\n",
    "I find the above notation horrible.  So here's my attempt at saying the same thing in a different way:"
   ]
  },
  {
   "cell_type": "code",
   "execution_count": 1,
   "metadata": {
    "collapsed": true
   },
   "outputs": [],
   "source": [
    "import fcg\n",
    "class The(fcg.Construction):\n",
    "    def produce(the):\n",
    "        the.meaning.definite='TRUE'\n",
    "    def comprehend(the):\n",
    "        the.form = 'the'\n",
    "    def contribute(the):\n",
    "        the.referent = the.meaning.object\n",
    "        the.lex_category = 'ARTICLE'"
   ]
  },
  {
   "cell_type": "markdown",
   "metadata": {},
   "source": [
    "Here's a similar construction for \"cat\""
   ]
  },
  {
   "cell_type": "code",
   "execution_count": 2,
   "metadata": {
    "collapsed": true
   },
   "outputs": [],
   "source": [
    "class Cat(fcg.Construction):\n",
    "    def produce(cat):\n",
    "        cat.meaning.animal_type='CAT'\n",
    "    def comprehend(cat):\n",
    "        cat.form = 'cat'\n",
    "    def contribute(cat):\n",
    "        cat.referent = cat.meaning.object\n",
    "        cat.sem_category = 'ANIMATE'\n",
    "        cat.lex_category = 'NOUN'\n",
    "        cat.number = 'SINGULAR'"
   ]
  },
  {
   "cell_type": "markdown",
   "metadata": {},
   "source": [
    "Now let's do something a bit more complex\n",
    "\n",
    "![syntax](img/syntax.png)\n",
    "\n",
    "(new notation here: $\\leq$ means \"is directly to the left of\")\n",
    "\n",
    "Also, note that we're also creating an entirely new structure here (`?NP-unit`), not just contributing to existing ones."
   ]
  },
  {
   "cell_type": "code",
   "execution_count": 3,
   "metadata": {
    "collapsed": true
   },
   "outputs": [],
   "source": [
    "class NounPhrase(fcg.Construction):\n",
    "    def produce(article, noun):\n",
    "        article.referent = noun.referent\n",
    "        article.lex_category = 'ARTICLE'\n",
    "        noun.lex_category = 'NOUN'\n",
    "    def comprehend(article, noun):\n",
    "        article.lex_category = 'ARTICLE'\n",
    "        noun.lex_category = 'NOUN'\n",
    "        article.left_of = noun\n",
    "        noun.right_of = article\n",
    "    def contribute(article, noun, phrase):\n",
    "        article.number = noun.number\n",
    "        noun.syn_func.head = phrase\n",
    "        article.syn_func.determiner = noun\n",
    "        phrase.referent = noun.referent\n",
    "        phrase.category = 'NP'\n",
    "        phrase.constituents = [article, noun]\n",
    "        phrase.agreement = noun.number"
   ]
  },
  {
   "cell_type": "markdown",
   "metadata": {},
   "source": [
    "Now let's try using ths.  We'll start with Production"
   ]
  },
  {
   "cell_type": "code",
   "execution_count": 4,
   "metadata": {
    "collapsed": true
   },
   "outputs": [],
   "source": [
    "world = fcg.FCG()\n",
    "world.add_construction(Cat)\n",
    "world.add_construction(The)\n",
    "world.add_construction(NounPhrase)\n",
    "\n",
    "s1 = world.make_structure()\n",
    "s1.meaning.animal_type = 'CAT'\n",
    "s1.meaning.object = 'obj-1'\n",
    "\n",
    "s2 = world.make_structure()\n",
    "s2.meaning.definite = 'TRUE'\n",
    "s2.meaning.object = 'obj-1'"
   ]
  },
  {
   "cell_type": "code",
   "execution_count": 5,
   "metadata": {
    "collapsed": false
   },
   "outputs": [
    {
     "data": {
      "text/html": [
       "<style>\n",
       ".fcg tr, .fcg td, .fcg th {border: 0px solid black;}\n",
       "table.fcg {display: inline-block;}\n",
       "\n",
       "    </style><table class=\"fcg\" style=\"background-color: #c8a6db;\"><tr><th colspan=\"2\"><center>s0</center></th></tr><tr><th>meaning.object</th><td>obj-1</td></tr><tr><th>meaning.animal_type</th><td>CAT</td></tr></table><table class=\"fcg\" style=\"background-color: #884eb1;\"><tr><th colspan=\"2\"><center>s1</center></th></tr><tr><th>meaning.object</th><td>obj-1</td></tr><tr><th>meaning.definite</th><td>TRUE</td></tr></table>"
      ],
      "text/plain": [
       "<IPython.core.display.HTML object>"
      ]
     },
     "execution_count": 5,
     "metadata": {},
     "output_type": "execute_result"
    }
   ],
   "source": [
    "from IPython.core.display import HTML\n",
    "HTML(fcg.html_structures(world))"
   ]
  },
  {
   "cell_type": "code",
   "execution_count": 6,
   "metadata": {
    "collapsed": false
   },
   "outputs": [
    {
     "name": "stdout",
     "output_type": "stream",
     "text": [
      "found 2 matches\n",
      "applying Cat.produce(s0)\n"
     ]
    },
    {
     "data": {
      "text/html": [
       "<style>\n",
       ".fcg tr, .fcg td, .fcg th {border: 0px solid black;}\n",
       "table.fcg {display: inline-block;}\n",
       "\n",
       "    </style><table class=\"fcg\" style=\"background-color: #c8a6db;\"><tr><th colspan=\"2\"><center>s0</center></th></tr><tr><th>form</th><td>cat</td></tr><tr><th>number</th><td>SINGULAR</td></tr><tr><th>sem_category</th><td>ANIMATE</td></tr><tr><th>referent</th><td>obj-1</td></tr><tr><th>meaning.object</th><td>obj-1</td></tr><tr><th>meaning.animal_type</th><td>CAT</td></tr><tr><th>lex_category</th><td>NOUN</td></tr></table><table class=\"fcg\" style=\"background-color: #884eb1;\"><tr><th colspan=\"2\"><center>s1</center></th></tr><tr><th>meaning.object</th><td>obj-1</td></tr><tr><th>meaning.definite</th><td>TRUE</td></tr></table>"
      ],
      "text/plain": [
       "<IPython.core.display.HTML object>"
      ]
     },
     "execution_count": 6,
     "metadata": {},
     "output_type": "execute_result"
    }
   ],
   "source": [
    "world.step('produce')\n",
    "\n",
    "HTML(fcg.html_structures(world))"
   ]
  },
  {
   "cell_type": "code",
   "execution_count": 7,
   "metadata": {
    "collapsed": false
   },
   "outputs": [
    {
     "name": "stdout",
     "output_type": "stream",
     "text": [
      "found 1 matches\n",
      "applying The.produce(s1)\n"
     ]
    },
    {
     "data": {
      "text/html": [
       "<style>\n",
       ".fcg tr, .fcg td, .fcg th {border: 0px solid black;}\n",
       "table.fcg {display: inline-block;}\n",
       "\n",
       "    </style><table class=\"fcg\" style=\"background-color: #c8a6db;\"><tr><th colspan=\"2\"><center>s0</center></th></tr><tr><th>form</th><td>cat</td></tr><tr><th>number</th><td>SINGULAR</td></tr><tr><th>sem_category</th><td>ANIMATE</td></tr><tr><th>referent</th><td>obj-1</td></tr><tr><th>meaning.object</th><td>obj-1</td></tr><tr><th>meaning.animal_type</th><td>CAT</td></tr><tr><th>lex_category</th><td>NOUN</td></tr></table><table class=\"fcg\" style=\"background-color: #884eb1;\"><tr><th colspan=\"2\"><center>s1</center></th></tr><tr><th>form</th><td>the</td></tr><tr><th>referent</th><td>obj-1</td></tr><tr><th>meaning.object</th><td>obj-1</td></tr><tr><th>meaning.definite</th><td>TRUE</td></tr><tr><th>lex_category</th><td>ARTICLE</td></tr></table>"
      ],
      "text/plain": [
       "<IPython.core.display.HTML object>"
      ]
     },
     "execution_count": 7,
     "metadata": {},
     "output_type": "execute_result"
    }
   ],
   "source": [
    "world.step('produce')\n",
    "\n",
    "HTML(fcg.html_structures(world))"
   ]
  },
  {
   "cell_type": "code",
   "execution_count": 8,
   "metadata": {
    "collapsed": false
   },
   "outputs": [
    {
     "name": "stdout",
     "output_type": "stream",
     "text": [
      "found 1 matches\n",
      "applying NounPhrase.produce(s1,s0)\n"
     ]
    },
    {
     "data": {
      "text/html": [
       "<style>\n",
       ".fcg tr, .fcg td, .fcg th {border: 0px solid black;}\n",
       "table.fcg {display: inline-block;}\n",
       "\n",
       "    </style><table class=\"fcg\" style=\"background-color: #c8a6db;\"><tr><th colspan=\"2\"><center>s0</center></th></tr><tr><th>form</th><td>cat</td></tr><tr><th>number</th><td>SINGULAR</td></tr><tr><th>sem_category</th><td>ANIMATE</td></tr><tr><th>referent</th><td>obj-1</td></tr><tr><th>meaning.object</th><td>obj-1</td></tr><tr><th>meaning.animal_type</th><td>CAT</td></tr><tr><th>right_of</th><td><div style=\"background-color: #884eb1;\">s1</div></td></tr><tr><th>syn_func.head</th><td><div style=\"background-color: #47b8a8;\">s2</div></td></tr><tr><th>lex_category</th><td>NOUN</td></tr></table><table class=\"fcg\" style=\"background-color: #884eb1;\"><tr><th colspan=\"2\"><center>s1</center></th></tr><tr><th>form</th><td>the</td></tr><tr><th>number</th><td>SINGULAR</td></tr><tr><th>left_of</th><td><div style=\"background-color: #c8a6db;\">s0</div></td></tr><tr><th>referent</th><td>obj-1</td></tr><tr><th>meaning.object</th><td>obj-1</td></tr><tr><th>meaning.definite</th><td>TRUE</td></tr><tr><th>syn_func.determiner</th><td><div style=\"background-color: #c8a6db;\">s0</div></td></tr><tr><th>lex_category</th><td>ARTICLE</td></tr></table><table class=\"fcg\" style=\"background-color: #47b8a8;\"><tr><th colspan=\"2\"><center>s2</center></th></tr><tr><th>category</th><td>NP</td></tr><tr><th>constituents</th><td>[<span style=\"background-color: #884eb1;\">s1</span>,<span style=\"background-color: #c8a6db;\">s0</span>]</td></tr><tr><th>agreement</th><td>SINGULAR</td></tr><tr><th>referent</th><td>obj-1</td></tr></table>"
      ],
      "text/plain": [
       "<IPython.core.display.HTML object>"
      ]
     },
     "execution_count": 8,
     "metadata": {},
     "output_type": "execute_result"
    }
   ],
   "source": [
    "world.step('produce')\n",
    "\n",
    "HTML(fcg.html_structures(world))"
   ]
  },
  {
   "cell_type": "code",
   "execution_count": 9,
   "metadata": {
    "collapsed": false
   },
   "outputs": [
    {
     "name": "stdout",
     "output_type": "stream",
     "text": [
      "found 0 matches\n"
     ]
    }
   ],
   "source": [
    "world.step('produce')"
   ]
  },
  {
   "cell_type": "markdown",
   "metadata": {},
   "source": [
    "Now we have a full structure, and can strip off the part that should be sent to the speech system"
   ]
  },
  {
   "cell_type": "code",
   "execution_count": 14,
   "metadata": {
    "collapsed": false
   },
   "outputs": [
    {
     "data": {
      "text/html": [
       "<style>\n",
       ".fcg tr, .fcg td, .fcg th {border: 0px solid black;}\n",
       "table.fcg {display: inline-block;}\n",
       "\n",
       "    </style><table class=\"fcg\" style=\"background-color: #f34343;\"><tr><th colspan=\"2\"><center>s0</center></th></tr><tr><th>left_of</th><td><div style=\"background-color: #a3d549;\">s1</div></td></tr><tr><th>form</th><td>the</td></tr></table><table class=\"fcg\" style=\"background-color: #a3d549;\"><tr><th colspan=\"2\"><center>s1</center></th></tr><tr><th>form</th><td>cat</td></tr><tr><th>right_of</th><td><div style=\"background-color: #f34343;\">s0</div></td></tr></table>"
      ],
      "text/plain": [
       "<IPython.core.display.HTML object>"
      ]
     },
     "execution_count": 14,
     "metadata": {},
     "output_type": "execute_result"
    }
   ],
   "source": [
    "world = fcg.FCG()\n",
    "world.add_construction(Cat)\n",
    "world.add_construction(The)\n",
    "world.add_construction(NounPhrase)\n",
    "\n",
    "s1 = world.make_structure()\n",
    "s1.form = 'the'\n",
    "s2 = world.make_structure()\n",
    "s2.form = 'cat'\n",
    "s1.left_of = s2\n",
    "s2.right_of = s1\n",
    "\n",
    "HTML(fcg.html_structures(world))"
   ]
  },
  {
   "cell_type": "markdown",
   "metadata": {},
   "source": [
    "But, what if we just had that output form and wanted to comprehend it?"
   ]
  },
  {
   "cell_type": "code",
   "execution_count": 15,
   "metadata": {
    "collapsed": false
   },
   "outputs": [
    {
     "name": "stdout",
     "output_type": "stream",
     "text": [
      "found 2 matches\n",
      "applying Cat.comprehend(s1)\n"
     ]
    },
    {
     "data": {
      "text/html": [
       "<style>\n",
       ".fcg tr, .fcg td, .fcg th {border: 0px solid black;}\n",
       "table.fcg {display: inline-block;}\n",
       "\n",
       "    </style><table class=\"fcg\" style=\"background-color: #f34343;\"><tr><th colspan=\"2\"><center>s0</center></th></tr><tr><th>left_of</th><td><div style=\"background-color: #a3d549;\">s1</div></td></tr><tr><th>form</th><td>the</td></tr></table><table class=\"fcg\" style=\"background-color: #a3d549;\"><tr><th colspan=\"2\"><center>s1</center></th></tr><tr><th>form</th><td>cat</td></tr><tr><th>number</th><td>SINGULAR</td></tr><tr><th>sem_category</th><td>ANIMATE</td></tr><tr><th>meaning.animal_type</th><td>CAT</td></tr><tr><th>right_of</th><td><div style=\"background-color: #f34343;\">s0</div></td></tr><tr><th>lex_category</th><td>NOUN</td></tr></table>"
      ],
      "text/plain": [
       "<IPython.core.display.HTML object>"
      ]
     },
     "execution_count": 15,
     "metadata": {},
     "output_type": "execute_result"
    }
   ],
   "source": [
    "world.step('comprehend')\n",
    "\n",
    "HTML(fcg.html_structures(world))"
   ]
  },
  {
   "cell_type": "code",
   "execution_count": 16,
   "metadata": {
    "collapsed": false
   },
   "outputs": [
    {
     "name": "stdout",
     "output_type": "stream",
     "text": [
      "found 1 matches\n",
      "applying The.comprehend(s0)\n"
     ]
    },
    {
     "data": {
      "text/html": [
       "<style>\n",
       ".fcg tr, .fcg td, .fcg th {border: 0px solid black;}\n",
       "table.fcg {display: inline-block;}\n",
       "\n",
       "    </style><table class=\"fcg\" style=\"background-color: #f34343;\"><tr><th colspan=\"2\"><center>s0</center></th></tr><tr><th>form</th><td>the</td></tr><tr><th>left_of</th><td><div style=\"background-color: #a3d549;\">s1</div></td></tr><tr><th>meaning.definite</th><td>TRUE</td></tr><tr><th>lex_category</th><td>ARTICLE</td></tr></table><table class=\"fcg\" style=\"background-color: #a3d549;\"><tr><th colspan=\"2\"><center>s1</center></th></tr><tr><th>form</th><td>cat</td></tr><tr><th>number</th><td>SINGULAR</td></tr><tr><th>sem_category</th><td>ANIMATE</td></tr><tr><th>meaning.animal_type</th><td>CAT</td></tr><tr><th>right_of</th><td><div style=\"background-color: #f34343;\">s0</div></td></tr><tr><th>lex_category</th><td>NOUN</td></tr></table>"
      ],
      "text/plain": [
       "<IPython.core.display.HTML object>"
      ]
     },
     "execution_count": 16,
     "metadata": {},
     "output_type": "execute_result"
    }
   ],
   "source": [
    "world.step('comprehend')\n",
    "\n",
    "HTML(fcg.html_structures(world))"
   ]
  },
  {
   "cell_type": "code",
   "execution_count": 17,
   "metadata": {
    "collapsed": false
   },
   "outputs": [
    {
     "name": "stdout",
     "output_type": "stream",
     "text": [
      "found 1 matches\n",
      "applying NounPhrase.comprehend(s0,s1)\n"
     ]
    },
    {
     "data": {
      "text/html": [
       "<style>\n",
       ".fcg tr, .fcg td, .fcg th {border: 0px solid black;}\n",
       "table.fcg {display: inline-block;}\n",
       "\n",
       "    </style><table class=\"fcg\" style=\"background-color: #f34343;\"><tr><th colspan=\"2\"><center>s0</center></th></tr><tr><th>form</th><td>the</td></tr><tr><th>number</th><td>SINGULAR</td></tr><tr><th>left_of</th><td><div style=\"background-color: #a3d549;\">s1</div></td></tr><tr><th>referent</th><td><div style=\"background-color: #b440f5;\"><fcg.core.Structure object at 0x0000000003A0A8D0></div></td></tr><tr><th>meaning.definite</th><td>TRUE</td></tr><tr><th>syn_func.determiner</th><td><div style=\"background-color: #a3d549;\">s1</div></td></tr><tr><th>lex_category</th><td>ARTICLE</td></tr></table><table class=\"fcg\" style=\"background-color: #a3d549;\"><tr><th colspan=\"2\"><center>s1</center></th></tr><tr><th>form</th><td>cat</td></tr><tr><th>number</th><td>SINGULAR</td></tr><tr><th>sem_category</th><td>ANIMATE</td></tr><tr><th>meaning.animal_type</th><td>CAT</td></tr><tr><th>right_of</th><td><div style=\"background-color: #f34343;\">s0</div></td></tr><tr><th>syn_func.head</th><td><div style=\"background-color: #ea7ffd;\">s2</div></td></tr><tr><th>lex_category</th><td>NOUN</td></tr></table><table class=\"fcg\" style=\"background-color: #ea7ffd;\"><tr><th colspan=\"2\"><center>s2</center></th></tr><tr><th>category</th><td>NP</td></tr><tr><th>constituents</th><td>[<span style=\"background-color: #f34343;\">s0</span>,<span style=\"background-color: #a3d549;\">s1</span>]</td></tr><tr><th>agreement</th><td>SINGULAR</td></tr><tr><th>referent</th><td><div style=\"background-color: #b440f5;\"><fcg.core.Structure object at 0x0000000003A0A8D0></div></td></tr></table>"
      ],
      "text/plain": [
       "<IPython.core.display.HTML object>"
      ]
     },
     "execution_count": 17,
     "metadata": {},
     "output_type": "execute_result"
    }
   ],
   "source": [
    "world.step('comprehend')\n",
    "\n",
    "HTML(fcg.html_structures(world))"
   ]
  },
  {
   "cell_type": "markdown",
   "metadata": {},
   "source": [
    "Now we can again strip off the high-level conceptual information"
   ]
  },
  {
   "cell_type": "markdown",
   "metadata": {},
   "source": [
    "## Notes on the change in syntax\n",
    "\n",
    "- It's not exactly the same, functionally\n",
    "  - variable binding ambiguity\n",
    "  - can have same things in `produce` and `comprehend`\n",
    "  \n",
    "- But, I think there are good reasons for that"
   ]
  },
  {
   "cell_type": "markdown",
   "metadata": {},
   "source": [
    "## Could this be implemented in NEF?\n",
    "\n",
    "- Most of it, I think so, but there's one big exception that might be a deal-breaker\n",
    "\n",
    "### Parts that fit well with NEF\n",
    "\n",
    "- Structures are just Semantic Pointers\n",
    "- Matching is the same things we use in spa Action Selection\n",
    "- We are always just **adding** to the semantic pointer, not changing slot values!\n",
    "    - not sure if this is an actual constraint in FCG, but I don't see any counter-examples\n",
    "- Don't really even need a winner-take-all selection!  Just apply all rules that can apply in parallel!\n",
    "    - I can't find any examples of FCG doing this, but seems fine to me\n",
    "    \n",
    "### Parts that are somewhat problematic with NEF\n",
    "\n",
    "- Backtracking of Construction applications\n",
    "   - It is possible (but rare) to have multiple Constructions that could apply, and you have to pick one, but that leads to a dead-end and you have to go back and try another.  In FCG, this is handled with a typical search tree.  In an NEF application, I think it might be possible to do something like reset to the beginning and inhibit the constructions that were used the first time a bit.\n",
    "   - But, this is pretty rare, and maybe could be dealt with by adding extra info to the initial state the second time through\n",
    "   \n",
    "### Parts that I have no idea with the NEF\n",
    "\n",
    "- Matching to multiple possible structures\n",
    "  - In the SPA Action stuff, the matching rules always say exactly which group of neurons the match is coming from\n",
    "  - but here we have a large set of chunks?\n",
    "  - Where are these stored?  how?  Can I do a parallel match across all of them, or do I need to do that in series?  How is that controlled?\n",
    "  - maybe we don't need this?  Maybe constructions can be expressed with a fixed small-ish set of Structures?  Or have some mechanism for swapping in and out which one is being matched on?"
   ]
  },
  {
   "cell_type": "markdown",
   "metadata": {},
   "source": [
    "## Future Plans\n",
    "\n",
    "- Implement this in HRRs.\n",
    "  - parallel matching across all\n",
    "  - parallel application across all (but as a gradual change to the vectors, to be kinda like real dynamics)\n",
    "  - find a small example to work with, that maybe doesn't have to do full arbitrary matches that I don't know how to implement."
   ]
  },
  {
   "cell_type": "code",
   "execution_count": null,
   "metadata": {
    "collapsed": true
   },
   "outputs": [],
   "source": []
  }
 ],
 "metadata": {
  "kernelspec": {
   "display_name": "Python 2",
   "language": "python",
   "name": "python2"
  },
  "language_info": {
   "codemirror_mode": {
    "name": "ipython",
    "version": 2
   },
   "file_extension": ".py",
   "mimetype": "text/x-python",
   "name": "python",
   "nbconvert_exporter": "python",
   "pygments_lexer": "ipython2",
   "version": "2.7.5"
  }
 },
 "nbformat": 4,
 "nbformat_minor": 0
}
