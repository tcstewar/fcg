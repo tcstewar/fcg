{
 "cells": [
  {
   "cell_type": "code",
   "execution_count": 1,
   "metadata": {
    "collapsed": true
   },
   "outputs": [],
   "source": [
    "import fcg\n",
    "\n",
    "class Cat(fcg.Construction):\n",
    "    def produce(cat):\n",
    "        cat.meaning.animal_type='CAT'\n",
    "    def comprehend(cat):\n",
    "        cat.form = 'cat'\n",
    "    def contribute(cat):\n",
    "        cat.referent = cat.meaning.object\n",
    "        cat.sem_category = 'ANIMATE'\n",
    "        cat.lex_category = 'NOUN'\n",
    "        cat.number = 'SINGULAR'\n",
    "\n",
    "class The(fcg.Construction):\n",
    "    def produce(the):\n",
    "        the.meaning.definite='TRUE'\n",
    "    def comprehend(the):\n",
    "        the.form = 'the'\n",
    "    def contribute(the):\n",
    "        the.referent = the.meaning.object\n",
    "        the.lex_category = 'ARTICLE'\n",
    "\n",
    "class NounPhrase(fcg.Construction):\n",
    "    def produce(article, noun):\n",
    "        article.referent = noun.referent\n",
    "        article.lex_category = 'ARTICLE'\n",
    "        noun.lex_category = 'NOUN'\n",
    "    def comprehend(article, noun):\n",
    "        article.lex_category = 'ARTICLE'\n",
    "        noun.lex_category = 'NOUN'\n",
    "        article.left_of = noun\n",
    "        noun.right_of = article\n",
    "    def contribute(article, noun, phrase):\n",
    "        article.number = noun.number\n",
    "        noun.syn_func.head = phrase\n",
    "        article.syn_func.determiner = noun\n",
    "        phrase.referent = noun.referent\n",
    "        phrase.category = 'NP'\n",
    "        phrase.constituents = [article, noun]\n",
    "        phrase.agreement = noun.number\n",
    "        \n",
    "        \n",
    "        \n"
   ]
  },
  {
   "cell_type": "code",
   "execution_count": 21,
   "metadata": {
    "collapsed": false
   },
   "outputs": [],
   "source": [
    "world = fcg.FCG()\n",
    "s1 = world.make_structure()\n",
    "s1.meaning.animal_type = 'CAT'\n",
    "s1.meaning.object = 'obj-1'\n",
    "s2 = world.make_structure()\n",
    "s2.meaning.definite = 'TRUE'\n",
    "s2.meaning.object = 'obj-1'\n",
    "\n"
   ]
  },
  {
   "cell_type": "code",
   "execution_count": null,
   "metadata": {
    "collapsed": true
   },
   "outputs": [],
   "source": []
  },
  {
   "cell_type": "code",
   "execution_count": 22,
   "metadata": {
    "collapsed": false
   },
   "outputs": [
    {
     "data": {
      "text/html": [
       "<style>\n",
       ".fcg tr, .fcg td, .fcg th {border: 0px solid black;}   \n",
       "table.fcg {display: inline-block;}\n",
       "    \n",
       "    </style><table class=\"fcg\" style=\"background-color: #a2ed86;\"><tr><th colspan=\"2\"><center>s0</center></th></tr><tr><th>meaning.object</th><td>obj-1</td></tr><tr><th>meaning.animal_type</th><td>CAT</td></tr></table><table class=\"fcg\" style=\"background-color: #56997a;\"><tr><th colspan=\"2\"><center>s1</center></th></tr><tr><th>meaning.object</th><td>obj-1</td></tr><tr><th>meaning.definite</th><td>TRUE</td></tr></table>"
      ],
      "text/plain": [
       "<IPython.core.display.HTML object>"
      ]
     },
     "execution_count": 22,
     "metadata": {},
     "output_type": "execute_result"
    }
   ],
   "source": [
    "import numpy as np\n",
    "\n",
    "def create_color(seed):\n",
    "    rng = np.random.RandomState(seed=seed)\n",
    "    return '#%02x%02x%02x' % (rng.uniform(64,255), rng.uniform(64,255), rng.uniform(64,255))\n",
    "\n",
    "def as_span(s):\n",
    "    return '<span style=\"background-color: %s;\">%s</span>' % (create_color(id(s)), s._id)\n",
    "def as_div(s):\n",
    "    return '<div style=\"background-color: %s;\">%s</div>' % (create_color(id(s)), s._id)\n",
    "\n",
    "def html_structures(w):\n",
    "    html = []\n",
    "    \n",
    "    style = \"\"\"\n",
    ".fcg tr, .fcg td, .fcg th {border: 0px solid black;}   \n",
    "table.fcg {display: inline-block;}\n",
    "    \n",
    "    \"\"\"\n",
    "    \n",
    "    html.append('<style>%s</style>' % style)\n",
    "    \n",
    "    for s in w.structures:\n",
    "        items = []\n",
    "        items.append('<tr><th colspan=\"2\"><center>%s</center></th></tr>' % s._id)\n",
    "        for k, v in s.extract():\n",
    "            if isinstance(v, fcg.Structure):\n",
    "                v = as_div(v)\n",
    "            if isinstance(v, list):\n",
    "                v = list(v)\n",
    "                for i, vv in enumerate(v):\n",
    "                    if isinstance(vv, fcg.Structure):\n",
    "                        v[i] = as_span(vv)\n",
    "                v = '[%s]' % ','.join(v)\n",
    "                    \n",
    "            items.append('<tr><th>%s</th><td>%s</td></tr>' % (k, v))\n",
    "        c = create_color(id(s))\n",
    "        html.append('<table class=\"fcg\" style=\"background-color: %s;\">%s</table>' % (c, ''.join(items)))\n",
    "    return ''.join(html)\n",
    "\n",
    "from IPython.core.display import HTML\n",
    "        \n",
    "HTML(html_structures(world))        \n"
   ]
  },
  {
   "cell_type": "code",
   "execution_count": 23,
   "metadata": {
    "collapsed": false
   },
   "outputs": [
    {
     "name": "stdout",
     "output_type": "stream",
     "text": [
      "found 2 matches\n",
      "applying <class '__main__.Cat'> [<fcg.core.Structure object at 0x0000000003BE29B0>]\n"
     ]
    },
    {
     "data": {
      "text/html": [
       "<style>\n",
       ".fcg tr, .fcg td, .fcg th {border: 0px solid black;}   \n",
       "table.fcg {display: inline-block;}\n",
       "    \n",
       "    </style><table class=\"fcg\" style=\"background-color: #a2ed86;\"><tr><th colspan=\"2\"><center>s0</center></th></tr><tr><th>form</th><td>cat</td></tr><tr><th>number</th><td>SINGULAR</td></tr><tr><th>sem_category</th><td>ANIMATE</td></tr><tr><th>referent</th><td>obj-1</td></tr><tr><th>meaning.object</th><td>obj-1</td></tr><tr><th>meaning.animal_type</th><td>CAT</td></tr><tr><th>lex_category</th><td>NOUN</td></tr></table><table class=\"fcg\" style=\"background-color: #56997a;\"><tr><th colspan=\"2\"><center>s1</center></th></tr><tr><th>meaning.object</th><td>obj-1</td></tr><tr><th>meaning.definite</th><td>TRUE</td></tr></table>"
      ],
      "text/plain": [
       "<IPython.core.display.HTML object>"
      ]
     },
     "execution_count": 23,
     "metadata": {},
     "output_type": "execute_result"
    }
   ],
   "source": [
    "world.add_construction(Cat)\n",
    "world.add_construction(The)\n",
    "world.add_construction(NounPhrase)\n",
    "\n",
    "world.step('produce')\n",
    "HTML(html_structures(world)) \n"
   ]
  },
  {
   "cell_type": "code",
   "execution_count": 24,
   "metadata": {
    "collapsed": false
   },
   "outputs": [
    {
     "name": "stdout",
     "output_type": "stream",
     "text": [
      "found 1 matches\n",
      "applying <class '__main__.The'> [<fcg.core.Structure object at 0x0000000003BE2860>]\n"
     ]
    },
    {
     "data": {
      "text/html": [
       "<style>\n",
       ".fcg tr, .fcg td, .fcg th {border: 0px solid black;}   \n",
       "table.fcg {display: inline-block;}\n",
       "    \n",
       "    </style><table class=\"fcg\" style=\"background-color: #a2ed86;\"><tr><th colspan=\"2\"><center>s0</center></th></tr><tr><th>form</th><td>cat</td></tr><tr><th>number</th><td>SINGULAR</td></tr><tr><th>sem_category</th><td>ANIMATE</td></tr><tr><th>referent</th><td>obj-1</td></tr><tr><th>meaning.object</th><td>obj-1</td></tr><tr><th>meaning.animal_type</th><td>CAT</td></tr><tr><th>lex_category</th><td>NOUN</td></tr></table><table class=\"fcg\" style=\"background-color: #56997a;\"><tr><th colspan=\"2\"><center>s1</center></th></tr><tr><th>form</th><td>the</td></tr><tr><th>referent</th><td>obj-1</td></tr><tr><th>meaning.object</th><td>obj-1</td></tr><tr><th>meaning.definite</th><td>TRUE</td></tr><tr><th>lex_category</th><td>ARTICLE</td></tr></table>"
      ],
      "text/plain": [
       "<IPython.core.display.HTML object>"
      ]
     },
     "execution_count": 24,
     "metadata": {},
     "output_type": "execute_result"
    }
   ],
   "source": [
    "world.step('produce')\n",
    "HTML(html_structures(world)) \n"
   ]
  },
  {
   "cell_type": "code",
   "execution_count": 25,
   "metadata": {
    "collapsed": false
   },
   "outputs": [
    {
     "name": "stdout",
     "output_type": "stream",
     "text": [
      "found 1 matches\n",
      "applying <class '__main__.NounPhrase'> [<fcg.core.Structure object at 0x0000000003BE2860>, <fcg.core.Structure object at 0x0000000003BE29B0>]\n"
     ]
    },
    {
     "data": {
      "text/html": [
       "<style>\n",
       ".fcg tr, .fcg td, .fcg th {border: 0px solid black;}   \n",
       "table.fcg {display: inline-block;}\n",
       "    \n",
       "    </style><table class=\"fcg\" style=\"background-color: #a2ed86;\"><tr><th colspan=\"2\"><center>s0</center></th></tr><tr><th>form</th><td>cat</td></tr><tr><th>number</th><td>SINGULAR</td></tr><tr><th>sem_category</th><td>ANIMATE</td></tr><tr><th>referent</th><td>obj-1</td></tr><tr><th>meaning.object</th><td>obj-1</td></tr><tr><th>meaning.animal_type</th><td>CAT</td></tr><tr><th>right_of</th><td><div style=\"background-color: #56997a;\">s1</div></td></tr><tr><th>syn_func.head</th><td><div style=\"background-color: #a75a9a;\">s2</div></td></tr><tr><th>lex_category</th><td>NOUN</td></tr></table><table class=\"fcg\" style=\"background-color: #a75a9a;\"><tr><th colspan=\"2\"><center>s2</center></th></tr><tr><th>category</th><td>NP</td></tr><tr><th>constituents</th><td>[<span style=\"background-color: #56997a;\">s1</span>,<span style=\"background-color: #a2ed86;\">s0</span>]</td></tr><tr><th>agreement</th><td>SINGULAR</td></tr><tr><th>referent</th><td>obj-1</td></tr></table><table class=\"fcg\" style=\"background-color: #56997a;\"><tr><th colspan=\"2\"><center>s1</center></th></tr><tr><th>form</th><td>the</td></tr><tr><th>number</th><td>SINGULAR</td></tr><tr><th>left_of</th><td><div style=\"background-color: #a2ed86;\">s0</div></td></tr><tr><th>referent</th><td>obj-1</td></tr><tr><th>meaning.object</th><td>obj-1</td></tr><tr><th>meaning.definite</th><td>TRUE</td></tr><tr><th>syn_func.determiner</th><td><div style=\"background-color: #a2ed86;\">s0</div></td></tr><tr><th>lex_category</th><td>ARTICLE</td></tr></table>"
      ],
      "text/plain": [
       "<IPython.core.display.HTML object>"
      ]
     },
     "execution_count": 25,
     "metadata": {},
     "output_type": "execute_result"
    }
   ],
   "source": [
    "world.step('produce')\n",
    "HTML(html_structures(world)) \n"
   ]
  },
  {
   "cell_type": "code",
   "execution_count": null,
   "metadata": {
    "collapsed": true
   },
   "outputs": [],
   "source": []
  }
 ],
 "metadata": {
  "kernelspec": {
   "display_name": "Python 2",
   "language": "python",
   "name": "python2"
  },
  "language_info": {
   "codemirror_mode": {
    "name": "ipython",
    "version": 2
   },
   "file_extension": ".py",
   "mimetype": "text/x-python",
   "name": "python",
   "nbconvert_exporter": "python",
   "pygments_lexer": "ipython2",
   "version": "2.7.5"
  }
 },
 "nbformat": 4,
 "nbformat_minor": 0
}
